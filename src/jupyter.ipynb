{
    "cells": [
        {
            "cell_type": "code",
            "execution_count": 10,
            "source": [
                "import os\n",
                "print(os.getcwd())"
            ],
            "outputs": [
                {
                    "output_type": "stream",
                    "name": "stdout",
                    "text": [
                        "/home/ethan/Desktop/projects/circuit/src\n"
                    ]
                }
            ],
            "metadata": {}
        },
        {
            "cell_type": "code",
            "execution_count": 11,
            "source": [
                "x={'name1':'zhj','name2':'zyc'}\n",
                "print(x,type(x))"
            ],
            "outputs": [
                {
                    "output_type": "stream",
                    "name": "stdout",
                    "text": [
                        "{'name1': 'zhj', 'name2': 'zyc'} <class 'dict'>\n"
                    ]
                }
            ],
            "metadata": {}
        },
        {
            "cell_type": "code",
            "execution_count": 12,
            "source": [
                "import pandas as pd\n",
                "s1=pd.DataFrame(columns=('','Left','Right'))\n",
                "s1.loc[0]=[1,2,3]\n",
                "print(s1)\n",
                "# print(s1.to_html)"
            ],
            "outputs": [
                {
                    "output_type": "stream",
                    "name": "stdout",
                    "text": [
                        "     Left Right\n0  1    2     3\n"
                    ]
                }
            ],
            "metadata": {}
        },
        {
            "cell_type": "code",
            "execution_count": 13,
            "metadata": {},
            "outputs": [
                {
                    "output_type": "execute_result",
                    "data": {
                        "text/plain": [
                            "''"
                        ]
                    },
                    "metadata": {},
                    "execution_count": 13
                }
            ],
            "source": [
                "import readline\n",
                "\n",
                "def rlinput(prompt, prefill=''):\n",
                "   readline.set_startup_hook(lambda: readline.insert_text(prefill))\n",
                "   try:\n",
                "      return input(prompt)  # or raw_input in Python 2\n",
                "   finally:\n",
                "      readline.set_startup_hook()\n",
                "\n",
                "rlinput('Please enter times:','100')"
            ]
        },
        {
            "source": [
                "django add picture\n",
                "```html\n",
                "{% load static %}\n",
                "  <img src=\"{% static \"DSC08572.jpg\" %}\" alt=\"zhj\" width=\"400\">\n",
                "  ```"
            ],
            "cell_type": "markdown",
            "metadata": {}
        },
        {
            "cell_type": "code",
            "execution_count": 18,
            "metadata": {},
            "outputs": [
                {
                    "output_type": "stream",
                    "name": "stdout",
                    "text": [
                        "runningc1 0\n",
                        "runningc1 1\n",
                        "runningc1 2\n",
                        "runningc1 3\n",
                        "thread finished...exiting\n",
                        "runningc1 4\n"
                    ]
                }
            ],
            "source": [
                "import threading\n",
                "from time import sleep\n",
                "\n",
                "\n",
                "\n",
                "class C:\n",
                "    def __init__(self, name, c, tol=0.05):\n",
                "        self.name = name\n",
                "        self.c = c\n",
                "        self.tol = tol\n",
                "        self.capacitance = []\n",
                "\n",
                "    def createthread(self):\n",
                "        thread = threading.Thread(target = self.threaded_function, args = ())\n",
                "        thread.start()\n",
                "\n",
                "    def threaded_function(self):\n",
                "        for i in range(5):\n",
                "            print(\"running\"+self.name,i)\n",
                "            sleep(1)\n",
                "\n",
                "\n",
                "if __name__ == \"__main__\":\n",
                "    cap=C('c1',1.5,0.025)\n",
                "    \n",
                "    cap.createthread()\n",
                "    # cap.threaded_function()\n",
                "    sleep(4)\n",
                "    print(\"thread finished...exiting\")"
            ]
        },
        {
            "cell_type": "code",
            "execution_count": 5,
            "metadata": {},
            "outputs": [
                {
                    "output_type": "stream",
                    "name": "stdout",
                    "text": [
                        "<class 'tuple'>\n[1234, '432tew', 'fvfa.txt'] <class 'list'>\n"
                    ]
                }
            ],
            "source": [
                "def rm(*args):\n",
                "    print(type(args))\n",
                "    for item in args:\n",
                "        print(item,type(item))\n",
                "\n",
                "rm([1234,'432tew','fvfa.txt'])"
            ]
        },
        {
            "cell_type": "code",
            "execution_count": null,
            "metadata": {},
            "outputs": [],
            "source": []
        }
    ],
    "metadata": {
        "orig_nbformat": 4,
        "language_info": {
            "name": "python",
            "version": "3.9.4"
        },
        "kernelspec": {
            "name": "python3",
            "display_name": "Python 3.9.5 64-bit ('py39': conda)"
        },
        "interpreter": {
            "hash": "8341c9884ae3f88d210e5c9662e15c9fa95fe02a5a82cfc8e4e1214f0adf17be"
        }
    },
    "nbformat": 4,
    "nbformat_minor": 2
}