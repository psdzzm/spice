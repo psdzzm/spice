{
    "cells": [
        {
            "cell_type": "code",
            "execution_count": null,
            "source": [
                "import os\n",
                "print(os.getcwd())"
            ],
            "outputs": [],
            "metadata": {}
        },
        {
            "cell_type": "code",
            "execution_count": null,
            "source": [
                "x={'name1':'zhj','name2':'zyc'}\n",
                "print(x,type(x))"
            ],
            "outputs": [],
            "metadata": {}
        },
        {
            "cell_type": "code",
            "execution_count": null,
            "source": [
                "import pandas as pd\n",
                "s1=pd.DataFrame(columns=('','Left','Right'))\n",
                "s1.loc[0]=[1,2,3]\n",
                "print(s1)\n",
                "# print(s1.to_html)"
            ],
            "outputs": [],
            "metadata": {}
        },
        {
            "cell_type": "code",
            "execution_count": 1,
            "metadata": {},
            "outputs": [
                {
                    "output_type": "execute_result",
                    "data": {
                        "text/plain": [
                            "''"
                        ]
                    },
                    "metadata": {},
                    "execution_count": 1
                }
            ],
            "source": [
                "import readline\n",
                "\n",
                "def rlinput(prompt, prefill=''):\n",
                "   readline.set_startup_hook(lambda: readline.insert_text(prefill))\n",
                "   try:\n",
                "      return input(prompt)  # or raw_input in Python 2\n",
                "   finally:\n",
                "      readline.set_startup_hook()\n",
                "\n",
                "rlinput('Please enter times:','100')"
            ]
        },
        {
            "source": [
                "django add picture\n",
                "```html\n",
                "{% load static %}\n",
                "  <img src=\"{% static \"DSC08572.jpg\" %}\" alt=\"zhj\" width=\"400\">\n",
                "  ```"
            ],
            "cell_type": "markdown",
            "metadata": {}
        }
    ],
    "metadata": {
        "orig_nbformat": 4,
        "language_info": {
            "name": "python",
            "version": "3.8.10"
        },
        "kernelspec": {
            "name": "python3",
            "display_name": "Python 3.8.10 64-bit ('base': conda)"
        },
        "interpreter": {
            "hash": "fc5b00bee59e553d508db9922ccda4ed2426092ffdded382ff87e02c7f5799df"
        }
    },
    "nbformat": 4,
    "nbformat_minor": 2
}