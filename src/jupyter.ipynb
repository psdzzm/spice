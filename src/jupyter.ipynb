{
    "cells": [
        {
            "cell_type": "code",
            "execution_count": null,
            "source": [
                "import re\n",
                "\n",
                "x=re.compile(r'[^\\d\\.\\npnuμmkKMGT ]+').search('123\\ndf3').group()\n",
                "print(x)"
            ],
            "outputs": [],
            "metadata": {}
        },
        {
            "cell_type": "code",
            "execution_count": null,
            "source": [
                "import numpy as np\n",
                "\n",
                "x=np.random.randint(0,2,10)\n",
                "print(x,np.where(x))"
            ],
            "outputs": [],
            "metadata": {}
        },
        {
            "cell_type": "code",
            "execution_count": 28,
            "source": [
                "import numpy as np\n",
                "\n",
                "x=np.arange(10)\n",
                "y=np.array([0,0,0,1,0,0,0,0,0,0])\n",
                "z=np.where(y==1)[0]\n",
                "print(z)\n",
                "print(np.split(x,z))"
            ],
            "outputs": [
                {
                    "output_type": "stream",
                    "name": "stdout",
                    "text": [
                        "[3]\n",
                        "[array([0, 1, 2]), array([3, 4, 5, 6, 7, 8, 9])]\n"
                    ]
                }
            ],
            "metadata": {}
        },
        {
            "cell_type": "code",
            "execution_count": null,
            "source": [
                "class C:\n",
                "    def __init__(self, name, c, tol=0.05):\n",
                "        self.name = name\n",
                "        self.c = c\n",
                "        self.tol = tol\n",
                "        self.capacitance = []\n",
                "\n",
                "    def copy(self):\n",
                "        self.r2=self.r\n",
                "        self.r2.r=50\n",
                "        print(self.r2.r,self.r.r)\n",
                "\n",
                "    def create(self):\n",
                "        self.r=R('r1',100)\n",
                "\n",
                "class R:\n",
                "    def __init__(self, name, r, tol=0.01):\n",
                "        self.name = name\n",
                "        self.r = r\n",
                "        self.tol = tol\n",
                "        self.resistance = []\n",
                "\n",
                "\n",
                "res=R('r2',43)\n",
                "print(res)\n",
                "cap=C(res,0.01)\n",
                "cap.create()\n",
                "cap.copy()\n",
                "print('name:',cap.name.name)\n",
                "res=R('r3',43)\n",
                "print(res)\n",
                "print('name:',cap.name.name)"
            ],
            "outputs": [],
            "metadata": {}
        },
        {
            "cell_type": "code",
            "execution_count": null,
            "source": [
                "class Rectangle(object):\n",
                "  @property\n",
                "  def width(self):\n",
                "    # 变量名不与方法名重复，改为true_width，下同\n",
                "    return self.true_width\n",
                "  @width.setter\n",
                "  def width(self, input_width):\n",
                "    self.true_width = input_width\n",
                "  @property\n",
                "  def height(self):\n",
                "    return self.true_height\n",
                "  @height.setter\n",
                "  #与property定义的方法名要一致\n",
                "  def height(self, input_height):\n",
                "    self.true_height = input_height\n",
                "s = Rectangle()\n",
                "# 与方法名一致\n",
                "s.width = 1024\n",
                "s.height = 768\n",
                "print(s.width,s.height)\n",
                "s.width = 720\n",
                "s.height = 480\n",
                "print(s.width,s.height)"
            ],
            "outputs": [],
            "metadata": {}
        },
        {
            "cell_type": "code",
            "execution_count": null,
            "source": [
                "import readline\n",
                "\n",
                "def rlinput(prompt, prefill=''):\n",
                "   readline.set_startup_hook(lambda: readline.insert_text(prefill))\n",
                "   try:\n",
                "      return input(prompt)  # or raw_input in Python 2\n",
                "   finally:\n",
                "      readline.set_startup_hook()\n",
                "\n",
                "rlinput('Please enter times:','100')"
            ],
            "outputs": [],
            "metadata": {}
        },
        {
            "cell_type": "markdown",
            "source": [
                "django add picture\n",
                "```html\n",
                "{% load static %}\n",
                "  <img src=\"{% static \"DSC08572.jpg\" %}\" alt=\"zhj\" width=\"400\">\n",
                "  ```"
            ],
            "metadata": {}
        },
        {
            "cell_type": "code",
            "execution_count": null,
            "source": [
                "import threading\n",
                "from time import sleep\n",
                "from datetime import datetime\n",
                "\n",
                "\n",
                "class C:\n",
                "    def __init__(self, name, c, tol=0.05):\n",
                "        self.name = name\n",
                "        self.c = c\n",
                "        self.tol = tol\n",
                "        self.capacitance = []\n",
                "\n",
                "    def createthread(self):\n",
                "        thread = threading.Thread(target = self.threaded_function, args = ())\n",
                "        thread.start()\n",
                "\n",
                "    def threaded_function(self):\n",
                "        for i in range(5):\n",
                "            print(\"running\"+self.name,i)\n",
                "            print(datetime.now().strftime(\"%d/%m/%Y, %H:%M:%S\"))\n",
                "            sleep(1)\n",
                "\n",
                "\n",
                "if __name__ == \"__main__\":\n",
                "    cap=C('c1',1.5,0.025)\n",
                "    \n",
                "    cap.createthread()\n",
                "    # cap.threaded_function()\n",
                "    sleep(4)\n",
                "    print(\"thread finished...exiting\")"
            ],
            "outputs": [],
            "metadata": {}
        },
        {
            "cell_type": "code",
            "execution_count": null,
            "source": [
                "from quantiphy import Quantity,UnitConversion\n",
                "\n",
                "# start=input('Please enter the start frequency: ')\n",
                "# while True:\n",
                "#     try:\n",
                "#         f=Quantity(start,units='Hz')\n",
                "#     except:\n",
                "#         start=input('Error! Please enter a valid frequency: ')\n",
                "#     else:\n",
                "#         print(f,f.real,f.format('Q'))\n",
                "#         print(f.render())\n",
                "#         break\n",
                "\n",
                "x='1.5n'\n",
                "f=Quantity(x,units='Ω')\n",
                "print(f,Quantity(x,units='Ω').real)"
            ],
            "outputs": [],
            "metadata": {}
        },
        {
            "cell_type": "code",
            "execution_count": null,
            "source": [
                "import os\n",
                "import psutil\n",
                "import numpy as np\n",
                "\n",
                "\n",
                "python_process = psutil.Process(os.getpid())\n",
                "memoryUse = python_process.memory_info()[0]/2.**20  # memory use in GB...I think\n",
                "print('memory use:', memoryUse)\n",
                "\n",
                "x = np.random.rand(5000000)\n",
                "\n",
                "memoryUse = python_process.memory_info()[0]/2.**20\n",
                "print('memory use:', memoryUse)\n",
                "\n",
                "del x\n",
                "\n",
                "memoryUse = python_process.memory_info()[0]/2.**20\n",
                "print('memory use:', memoryUse)\n",
                "\n",
                "del memoryUse\n",
                "\n",
                "print('memory use:', python_process.memory_info()[0]/2.**20)"
            ],
            "outputs": [],
            "metadata": {}
        },
        {
            "cell_type": "code",
            "execution_count": null,
            "source": [
                "import importlib\n",
                "from timeit import default_timer as timer\n",
                "\n",
                "def check_module(module_name):\n",
                "    \"\"\"\n",
                "    Checks if module can be imported without actually\n",
                "    importing it\n",
                "    \"\"\"\n",
                "    module_spec = importlib.util.find_spec(module_name)\n",
                "    if module_spec is None:\n",
                "        print(\"Module: {} does not exist\".format(module_name))\n",
                "    else:\n",
                "        print(\"Module: {} can be imported\".format(module_name))\n",
                "        return module_name\n",
                "\n",
                "\n",
                "def import_module(module_name,name=None):\n",
                "    \"\"\"\n",
                "    Import the module via the passed in module specification\n",
                "    Returns the newly imported module\n",
                "    \"\"\"\n",
                "    if module_name==None:\n",
                "        return\n",
                "    else:\n",
                "        module = importlib.import_module(module_name)\n",
                "    \n",
                "    if name==None:\n",
                "        return module\n",
                "    elif isinstance(name,str):\n",
                "        print('Import '+module_name+'.'+name)\n",
                "        return getattr(module,name)\n",
                "    elif isinstance(name,list):\n",
                "        length=len(name)\n",
                "        if length==1:\n",
                "            print('Import '+module_name+'.'+name[0])\n",
                "            return getattr(module,name[0])\n",
                "        elif length>1:\n",
                "            sub=[None]*length\n",
                "            for item,i in zip(name,range(length)):\n",
                "                sub[i]=getattr(module,item)\n",
                "                print('Import '+module_name+'.'+item)\n",
                "            return sub\n",
                "        else:\n",
                "            raise BaseException(\"Empty list\")\n",
                "    else:\n",
                "        raise TypeError(\"Unsupported type {} of \"+name)\n",
                "\n",
                "\n",
                "HTML=import_module(check_module('weasyprint'),'HTML')\n",
                "# sci=import_module_from_spec(check_module('numpy.lib.scimath'))\n",
                "# random,linspace,sqrt=import_module_from_spec(check_module('numpy'),['random','linspace','sqrt'])\n",
                "\n",
                "# print(np.random.rand(5))\n",
                "# print(linspace(1,5,4))"
            ],
            "outputs": [],
            "metadata": {}
        },
        {
            "cell_type": "code",
            "execution_count": null,
            "source": [
                "a = (\"John\", \"Charles\", \"Mike\")\n",
                "b = (\"Jenny\", \"Christy\", \"Monica\",'afsv')\n",
                "\n",
                "x=zip(a, b)\n",
                "for item in x:\n",
                "    print(item)"
            ],
            "outputs": [],
            "metadata": {}
        },
        {
            "cell_type": "code",
            "execution_count": null,
            "source": [
                "def setunit(value, base, level):\n",
                "    for i in range(level):\n",
                "        if value < 10**(base + 3 * i+3):\n",
                "            return value / 10**(base + 3 * i), i\n",
                "\n",
                "    return value/10**(base+3*i), i\n",
                "\n",
                "setunit(1e6,-6,2)"
            ],
            "outputs": [],
            "metadata": {}
        },
        {
            "cell_type": "code",
            "execution_count": null,
            "source": [],
            "outputs": [],
            "metadata": {}
        }
    ],
    "metadata": {
        "orig_nbformat": 4,
        "language_info": {
            "name": "python",
            "version": "3.9.6",
            "mimetype": "text/x-python",
            "codemirror_mode": {
                "name": "ipython",
                "version": 3
            },
            "pygments_lexer": "ipython3",
            "nbconvert_exporter": "python",
            "file_extension": ".py"
        },
        "kernelspec": {
            "name": "python3",
            "display_name": "Python 3.9.6 64-bit ('venv': venv)"
        },
        "interpreter": {
            "hash": "bcca279a21f4a4c5378044df7c921d39c294123c6981b1dc8d0e6e875af00827"
        }
    },
    "nbformat": 4,
    "nbformat_minor": 2
}