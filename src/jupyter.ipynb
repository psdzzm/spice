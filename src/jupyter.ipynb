{
    "cells": [
        {
            "cell_type": "code",
            "execution_count": null,
            "source": [
                "import os\n",
                "print(os.getcwd())"
            ],
            "outputs": [],
            "metadata": {}
        },
        {
            "cell_type": "code",
            "execution_count": null,
            "source": [
                "x={'name1':'zhj','name2':'zyc'}\n",
                "print(x,type(x))"
            ],
            "outputs": [],
            "metadata": {}
        },
        {
            "cell_type": "code",
            "execution_count": null,
            "source": [
                "class Rectangle(object):\n",
                "  @property\n",
                "  def width(self):\n",
                "    # 变量名不与方法名重复，改为true_width，下同\n",
                "    return self.true_width\n",
                "  @width.setter\n",
                "  def width(self, input_width):\n",
                "    self.true_width = input_width\n",
                "  @property\n",
                "  def height(self):\n",
                "    return self.true_height\n",
                "  @height.setter\n",
                "  #与property定义的方法名要一致\n",
                "  def height(self, input_height):\n",
                "    self.true_height = input_height\n",
                "s = Rectangle()\n",
                "# 与方法名一致\n",
                "s.width = 1024\n",
                "s.height = 768\n",
                "print(s.width,s.height)\n",
                "s.width = 720\n",
                "s.height = 480\n",
                "print(s.width,s.height)"
            ],
            "outputs": [],
            "metadata": {}
        },
        {
            "cell_type": "code",
            "execution_count": null,
            "metadata": {},
            "outputs": [],
            "source": [
                "import readline\n",
                "\n",
                "def rlinput(prompt, prefill=''):\n",
                "   readline.set_startup_hook(lambda: readline.insert_text(prefill))\n",
                "   try:\n",
                "      return input(prompt)  # or raw_input in Python 2\n",
                "   finally:\n",
                "      readline.set_startup_hook()\n",
                "\n",
                "rlinput('Please enter times:','100')"
            ]
        },
        {
            "source": [
                "django add picture\n",
                "```html\n",
                "{% load static %}\n",
                "  <img src=\"{% static \"DSC08572.jpg\" %}\" alt=\"zhj\" width=\"400\">\n",
                "  ```"
            ],
            "cell_type": "markdown",
            "metadata": {}
        },
        {
            "cell_type": "code",
            "execution_count": null,
            "metadata": {},
            "outputs": [],
            "source": [
                "import threading\n",
                "from time import sleep\n",
                "from datetime import datetime\n",
                "\n",
                "\n",
                "class C:\n",
                "    def __init__(self, name, c, tol=0.05):\n",
                "        self.name = name\n",
                "        self.c = c\n",
                "        self.tol = tol\n",
                "        self.capacitance = []\n",
                "\n",
                "    def createthread(self):\n",
                "        thread = threading.Thread(target = self.threaded_function, args = ())\n",
                "        thread.start()\n",
                "\n",
                "    def threaded_function(self):\n",
                "        for i in range(5):\n",
                "            print(\"running\"+self.name,i)\n",
                "            print(datetime.now().strftime(\"%d/%m/%Y, %H:%M:%S\"))\n",
                "            sleep(1)\n",
                "\n",
                "\n",
                "if __name__ == \"__main__\":\n",
                "    cap=C('c1',1.5,0.025)\n",
                "    \n",
                "    cap.createthread()\n",
                "    # cap.threaded_function()\n",
                "    sleep(4)\n",
                "    print(\"thread finished...exiting\")"
            ]
        },
        {
            "cell_type": "code",
            "execution_count": null,
            "metadata": {},
            "outputs": [],
            "source": [
                "def rm(*args):\n",
                "    print(type(args))\n",
                "    for item in args:\n",
                "        print(item,type(item))\n",
                "\n",
                "rm([1234,'432tew','fvfa.txt'])"
            ]
        },
        {
            "cell_type": "code",
            "execution_count": null,
            "metadata": {},
            "outputs": [],
            "source": [
                "def square(x:int) -> int:\n",
                "    print(x,type(x))\n",
                "    return x**2\n",
                "\n",
                "print(square(5.5))"
            ]
        },
        {
            "cell_type": "code",
            "execution_count": 3,
            "metadata": {},
            "outputs": [
                {
                    "output_type": "stream",
                    "name": "stdout",
                    "text": [
                        "Module: weasyprint can be imported\nImport weasyprint.HTML\n0.0002213870002378826 <class 'weasyprint.HTML'>\nexist\n"
                    ]
                }
            ],
            "source": [
                "import importlib\n",
                "from timeit import default_timer as timer\n",
                "\n",
                "def check_module(module_name):\n",
                "    \"\"\"\n",
                "    Checks if module can be imported without actually\n",
                "    importing it\n",
                "    \"\"\"\n",
                "    module_spec = importlib.util.find_spec(module_name)\n",
                "    if module_spec is None:\n",
                "        print(\"Module: {} does not exist\".format(module_name))\n",
                "    else:\n",
                "        print(\"Module: {} can be imported\".format(module_name))\n",
                "        return module_name\n",
                "\n",
                "\n",
                "def import_module(module_name,name=None):\n",
                "    \"\"\"\n",
                "    Import the module via the passed in module specification\n",
                "    Returns the newly imported module\n",
                "    \"\"\"\n",
                "    if module_name==None:\n",
                "        return\n",
                "    else:\n",
                "        module = importlib.import_module(module_name)\n",
                "    \n",
                "    if name==None:\n",
                "        return module\n",
                "    elif isinstance(name,str):\n",
                "        print('Import '+module_name+'.'+name)\n",
                "        return getattr(module,name)\n",
                "    elif isinstance(name,list):\n",
                "        length=len(name)\n",
                "        if length==1:\n",
                "            print('Import '+module_name+'.'+name[0])\n",
                "            return getattr(module,name[0])\n",
                "        elif length>1:\n",
                "            sub=[None]*length\n",
                "            for item,i in zip(name,range(length)):\n",
                "                sub[i]=getattr(module,item)\n",
                "                print('Import '+module_name+'.'+item)\n",
                "            return sub\n",
                "        else:\n",
                "            raise BaseException(\"Empty list\")\n",
                "    else:\n",
                "        raise TypeError(\"Unsupported type {} of \"+name)\n",
                "\n",
                "\n",
                "HTML=import_module(check_module('weasyprint'),'HTML')\n",
                "# sci=import_module_from_spec(check_module('numpy.lib.scimath'))\n",
                "# random,linspace,sqrt=import_module_from_spec(check_module('numpy'),['random','linspace','sqrt'])\n",
                "\n",
                "# print(np.random.rand(5))\n",
                "# print(linspace(1,5,4))"
            ]
        },
        {
            "cell_type": "code",
            "execution_count": null,
            "metadata": {},
            "outputs": [],
            "source": [
                "from numpy.lib.scimath import sqrt\n",
                "print(sqrt(5))"
            ]
        },
        {
            "cell_type": "code",
            "execution_count": null,
            "metadata": {},
            "outputs": [],
            "source": []
        }
    ],
    "metadata": {
        "orig_nbformat": 4,
        "language_info": {
            "name": "python",
            "version": "3.9.6"
        },
        "kernelspec": {
            "name": "python3",
            "display_name": "Python 3.9.6 64-bit ('venv': venv)"
        },
        "interpreter": {
            "hash": "67ef6772c86da8ef658879aa388a1de651c83b6815030446bc445c101b39a03e"
        }
    },
    "nbformat": 4,
    "nbformat_minor": 2
}