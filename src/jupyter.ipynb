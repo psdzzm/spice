{
    "cells": [
        {
            "cell_type": "code",
            "execution_count": 12,
            "source": [
                "try:\n",
                "    1==2\n",
                "except:\n",
                "    pass\n",
                "finally:\n",
                "    print('enter')"
            ],
            "outputs": [
                {
                    "output_type": "stream",
                    "name": "stdout",
                    "text": [
                        "enter\n"
                    ]
                }
            ],
            "metadata": {}
        },
        {
            "cell_type": "code",
            "execution_count": 11,
            "source": [
                "class C:\n",
                "    def __init__(self, name, c, tol=0.05):\n",
                "        self.name = name\n",
                "        self.c = c\n",
                "        self.tol = tol\n",
                "        self.capacitance = []\n",
                "\n",
                "    def copy(self):\n",
                "        self.r2=self.r\n",
                "        self.r2.r=50\n",
                "        print(self.r2.r,self.r.r)\n",
                "\n",
                "    def create(self):\n",
                "        self.r=R('r1',100)\n",
                "\n",
                "class R:\n",
                "    def __init__(self, name, r, tol=0.01):\n",
                "        self.name = name\n",
                "        self.r = r\n",
                "        self.tol = tol\n",
                "        self.resistance = []\n",
                "\n",
                "\n",
                "res=R('r2',43)\n",
                "print(res)\n",
                "cap=C(res,0.01)\n",
                "cap.create()\n",
                "cap.copy()\n",
                "print('name:',cap.name.name)\n",
                "res=R('r3',43)\n",
                "print(res)\n",
                "print('name:',cap.name.name)"
            ],
            "outputs": [
                {
                    "output_type": "stream",
                    "name": "stdout",
                    "text": [
                        "<__main__.R object at 0x7f26fba759d0>\n50 50\nname: r2\n<__main__.R object at 0x7f26fb7bd0a0>\nname: r2\n"
                    ]
                }
            ],
            "metadata": {}
        },
        {
            "cell_type": "code",
            "execution_count": null,
            "source": [
                "class Rectangle(object):\n",
                "  @property\n",
                "  def width(self):\n",
                "    # 变量名不与方法名重复，改为true_width，下同\n",
                "    return self.true_width\n",
                "  @width.setter\n",
                "  def width(self, input_width):\n",
                "    self.true_width = input_width\n",
                "  @property\n",
                "  def height(self):\n",
                "    return self.true_height\n",
                "  @height.setter\n",
                "  #与property定义的方法名要一致\n",
                "  def height(self, input_height):\n",
                "    self.true_height = input_height\n",
                "s = Rectangle()\n",
                "# 与方法名一致\n",
                "s.width = 1024\n",
                "s.height = 768\n",
                "print(s.width,s.height)\n",
                "s.width = 720\n",
                "s.height = 480\n",
                "print(s.width,s.height)"
            ],
            "outputs": [],
            "metadata": {}
        },
        {
            "cell_type": "code",
            "execution_count": null,
            "metadata": {},
            "outputs": [],
            "source": [
                "import readline\n",
                "\n",
                "def rlinput(prompt, prefill=''):\n",
                "   readline.set_startup_hook(lambda: readline.insert_text(prefill))\n",
                "   try:\n",
                "      return input(prompt)  # or raw_input in Python 2\n",
                "   finally:\n",
                "      readline.set_startup_hook()\n",
                "\n",
                "rlinput('Please enter times:','100')"
            ]
        },
        {
            "source": [
                "django add picture\n",
                "```html\n",
                "{% load static %}\n",
                "  <img src=\"{% static \"DSC08572.jpg\" %}\" alt=\"zhj\" width=\"400\">\n",
                "  ```"
            ],
            "cell_type": "markdown",
            "metadata": {}
        },
        {
            "cell_type": "code",
            "execution_count": null,
            "metadata": {},
            "outputs": [],
            "source": [
                "import threading\n",
                "from time import sleep\n",
                "from datetime import datetime\n",
                "\n",
                "\n",
                "class C:\n",
                "    def __init__(self, name, c, tol=0.05):\n",
                "        self.name = name\n",
                "        self.c = c\n",
                "        self.tol = tol\n",
                "        self.capacitance = []\n",
                "\n",
                "    def createthread(self):\n",
                "        thread = threading.Thread(target = self.threaded_function, args = ())\n",
                "        thread.start()\n",
                "\n",
                "    def threaded_function(self):\n",
                "        for i in range(5):\n",
                "            print(\"running\"+self.name,i)\n",
                "            print(datetime.now().strftime(\"%d/%m/%Y, %H:%M:%S\"))\n",
                "            sleep(1)\n",
                "\n",
                "\n",
                "if __name__ == \"__main__\":\n",
                "    cap=C('c1',1.5,0.025)\n",
                "    \n",
                "    cap.createthread()\n",
                "    # cap.threaded_function()\n",
                "    sleep(4)\n",
                "    print(\"thread finished...exiting\")"
            ]
        },
        {
            "cell_type": "code",
            "execution_count": 6,
            "metadata": {},
            "outputs": [
                {
                    "output_type": "stream",
                    "name": "stdout",
                    "text": [
                        "1.5 nohm 1.5 nΩ\n"
                    ]
                }
            ],
            "source": [
                "from quantiphy import Quantity,UnitConversion\n",
                "\n",
                "# start=input('Please enter the start frequency: ')\n",
                "# while True:\n",
                "#     try:\n",
                "#         f=Quantity(start,units='Hz')\n",
                "#     except:\n",
                "#         start=input('Error! Please enter a valid frequency: ')\n",
                "#     else:\n",
                "#         print(f,f.real,f.format('Q'))\n",
                "#         print(f.render())\n",
                "#         break\n",
                "\n",
                "x='1.5n'\n",
                "f=Quantity(x,units='ohm')\n",
                "print(f,Quantity(x,units='Ω').render())"
            ]
        },
        {
            "cell_type": "code",
            "execution_count": 2,
            "metadata": {},
            "outputs": [
                {
                    "output_type": "stream",
                    "name": "stdout",
                    "text": [
                        "memory use: 61.7734375\nmemory use: 99.7578125\nmemory use: 61.8359375\nmemory use: 61.8359375\n"
                    ]
                }
            ],
            "source": [
                "import os\n",
                "import psutil\n",
                "import numpy as np\n",
                "\n",
                "\n",
                "python_process = psutil.Process(os.getpid())\n",
                "memoryUse = python_process.memory_info()[0]/2.**20  # memory use in GB...I think\n",
                "print('memory use:', memoryUse)\n",
                "\n",
                "x = np.random.rand(5000000)\n",
                "\n",
                "memoryUse = python_process.memory_info()[0]/2.**20\n",
                "print('memory use:', memoryUse)\n",
                "\n",
                "del x\n",
                "\n",
                "memoryUse = python_process.memory_info()[0]/2.**20\n",
                "print('memory use:', memoryUse)\n",
                "\n",
                "del memoryUse\n",
                "\n",
                "print('memory use:', python_process.memory_info()[0]/2.**20)"
            ]
        },
        {
            "cell_type": "code",
            "execution_count": 3,
            "metadata": {},
            "outputs": [
                {
                    "output_type": "stream",
                    "name": "stdout",
                    "text": [
                        "Module: weasyprint can be imported\nImport weasyprint.HTML\n0.0002213870002378826 <class 'weasyprint.HTML'>\nexist\n"
                    ]
                }
            ],
            "source": [
                "import importlib\n",
                "from timeit import default_timer as timer\n",
                "\n",
                "def check_module(module_name):\n",
                "    \"\"\"\n",
                "    Checks if module can be imported without actually\n",
                "    importing it\n",
                "    \"\"\"\n",
                "    module_spec = importlib.util.find_spec(module_name)\n",
                "    if module_spec is None:\n",
                "        print(\"Module: {} does not exist\".format(module_name))\n",
                "    else:\n",
                "        print(\"Module: {} can be imported\".format(module_name))\n",
                "        return module_name\n",
                "\n",
                "\n",
                "def import_module(module_name,name=None):\n",
                "    \"\"\"\n",
                "    Import the module via the passed in module specification\n",
                "    Returns the newly imported module\n",
                "    \"\"\"\n",
                "    if module_name==None:\n",
                "        return\n",
                "    else:\n",
                "        module = importlib.import_module(module_name)\n",
                "    \n",
                "    if name==None:\n",
                "        return module\n",
                "    elif isinstance(name,str):\n",
                "        print('Import '+module_name+'.'+name)\n",
                "        return getattr(module,name)\n",
                "    elif isinstance(name,list):\n",
                "        length=len(name)\n",
                "        if length==1:\n",
                "            print('Import '+module_name+'.'+name[0])\n",
                "            return getattr(module,name[0])\n",
                "        elif length>1:\n",
                "            sub=[None]*length\n",
                "            for item,i in zip(name,range(length)):\n",
                "                sub[i]=getattr(module,item)\n",
                "                print('Import '+module_name+'.'+item)\n",
                "            return sub\n",
                "        else:\n",
                "            raise BaseException(\"Empty list\")\n",
                "    else:\n",
                "        raise TypeError(\"Unsupported type {} of \"+name)\n",
                "\n",
                "\n",
                "HTML=import_module(check_module('weasyprint'),'HTML')\n",
                "# sci=import_module_from_spec(check_module('numpy.lib.scimath'))\n",
                "# random,linspace,sqrt=import_module_from_spec(check_module('numpy'),['random','linspace','sqrt'])\n",
                "\n",
                "# print(np.random.rand(5))\n",
                "# print(linspace(1,5,4))"
            ]
        },
        {
            "cell_type": "code",
            "execution_count": 13,
            "metadata": {},
            "outputs": [
                {
                    "output_type": "stream",
                    "name": "stdout",
                    "text": [
                        "('John', 'Jenny')\n('Charles', 'Christy')\n('Mike', 'Monica')\n"
                    ]
                }
            ],
            "source": [
                "a = (\"John\", \"Charles\", \"Mike\")\n",
                "b = (\"Jenny\", \"Christy\", \"Monica\",'afsv')\n",
                "\n",
                "x=zip(a, b)\n",
                "for item in x:\n",
                "    print(item)"
            ]
        },
        {
            "cell_type": "code",
            "execution_count": 14,
            "metadata": {},
            "outputs": [
                {
                    "output_type": "display_data",
                    "data": {
                        "text/plain": "<Figure size 432x288 with 1 Axes>",
                        "image/svg+xml": "<?xml version=\"1.0\" encoding=\"utf-8\" standalone=\"no\"?>\n<!DOCTYPE svg PUBLIC \"-//W3C//DTD SVG 1.1//EN\"\n  \"http://www.w3.org/Graphics/SVG/1.1/DTD/svg11.dtd\">\n<svg height=\"248.518125pt\" version=\"1.1\" viewBox=\"0 0 372.103125 248.518125\" width=\"372.103125pt\" xmlns=\"http://www.w3.org/2000/svg\" xmlns:xlink=\"http://www.w3.org/1999/xlink\">\n <metadata>\n  <rdf:RDF xmlns:cc=\"http://creativecommons.org/ns#\" xmlns:dc=\"http://purl.org/dc/elements/1.1/\" xmlns:rdf=\"http://www.w3.org/1999/02/22-rdf-syntax-ns#\">\n   <cc:Work>\n    <dc:type rdf:resource=\"http://purl.org/dc/dcmitype/StillImage\"/>\n    <dc:date>2021-07-18T19:38:52.875592</dc:date>\n    <dc:format>image/svg+xml</dc:format>\n    <dc:creator>\n     <cc:Agent>\n      <dc:title>Matplotlib v3.4.2, https://matplotlib.org/</dc:title>\n     </cc:Agent>\n    </dc:creator>\n   </cc:Work>\n  </rdf:RDF>\n </metadata>\n <defs>\n  <style type=\"text/css\">*{stroke-linecap:butt;stroke-linejoin:round;}</style>\n </defs>\n <g id=\"figure_1\">\n  <g id=\"patch_1\">\n   <path d=\"M 0 248.518125 \nL 372.103125 248.518125 \nL 372.103125 0 \nL 0 0 \nz\n\" style=\"fill:none;\"/>\n  </g>\n  <g id=\"axes_1\">\n   <g id=\"patch_2\">\n    <path d=\"M 30.103125 224.64 \nL 364.903125 224.64 \nL 364.903125 7.2 \nL 30.103125 7.2 \nz\n\" style=\"fill:#ffffff;\"/>\n   </g>\n   <g id=\"matplotlib.axis_1\">\n    <g id=\"xtick_1\">\n     <g id=\"line2d_1\">\n      <defs>\n       <path d=\"M 0 0 \nL 0 3.5 \n\" id=\"m64543a3415\" style=\"stroke:#000000;stroke-width:0.8;\"/>\n      </defs>\n      <g>\n       <use style=\"stroke:#000000;stroke-width:0.8;\" x=\"45.321307\" xlink:href=\"#m64543a3415\" y=\"224.64\"/>\n      </g>\n     </g>\n     <g id=\"text_1\">\n      <!-- 0 -->\n      <g transform=\"translate(42.140057 239.238437)scale(0.1 -0.1)\">\n       <defs>\n        <path d=\"M 2034 4250 \nQ 1547 4250 1301 3770 \nQ 1056 3291 1056 2328 \nQ 1056 1369 1301 889 \nQ 1547 409 2034 409 \nQ 2525 409 2770 889 \nQ 3016 1369 3016 2328 \nQ 3016 3291 2770 3770 \nQ 2525 4250 2034 4250 \nz\nM 2034 4750 \nQ 2819 4750 3233 4129 \nQ 3647 3509 3647 2328 \nQ 3647 1150 3233 529 \nQ 2819 -91 2034 -91 \nQ 1250 -91 836 529 \nQ 422 1150 422 2328 \nQ 422 3509 836 4129 \nQ 1250 4750 2034 4750 \nz\n\" id=\"DejaVuSans-30\" transform=\"scale(0.015625)\"/>\n       </defs>\n       <use xlink:href=\"#DejaVuSans-30\"/>\n      </g>\n     </g>\n    </g>\n    <g id=\"xtick_2\">\n     <g id=\"line2d_2\">\n      <g>\n       <use style=\"stroke:#000000;stroke-width:0.8;\" x=\"112.95767\" xlink:href=\"#m64543a3415\" y=\"224.64\"/>\n      </g>\n     </g>\n     <g id=\"text_2\">\n      <!-- 2 -->\n      <g transform=\"translate(109.77642 239.238437)scale(0.1 -0.1)\">\n       <defs>\n        <path d=\"M 1228 531 \nL 3431 531 \nL 3431 0 \nL 469 0 \nL 469 531 \nQ 828 903 1448 1529 \nQ 2069 2156 2228 2338 \nQ 2531 2678 2651 2914 \nQ 2772 3150 2772 3378 \nQ 2772 3750 2511 3984 \nQ 2250 4219 1831 4219 \nQ 1534 4219 1204 4116 \nQ 875 4013 500 3803 \nL 500 4441 \nQ 881 4594 1212 4672 \nQ 1544 4750 1819 4750 \nQ 2544 4750 2975 4387 \nQ 3406 4025 3406 3419 \nQ 3406 3131 3298 2873 \nQ 3191 2616 2906 2266 \nQ 2828 2175 2409 1742 \nQ 1991 1309 1228 531 \nz\n\" id=\"DejaVuSans-32\" transform=\"scale(0.015625)\"/>\n       </defs>\n       <use xlink:href=\"#DejaVuSans-32\"/>\n      </g>\n     </g>\n    </g>\n    <g id=\"xtick_3\">\n     <g id=\"line2d_3\">\n      <g>\n       <use style=\"stroke:#000000;stroke-width:0.8;\" x=\"180.594034\" xlink:href=\"#m64543a3415\" y=\"224.64\"/>\n      </g>\n     </g>\n     <g id=\"text_3\">\n      <!-- 4 -->\n      <g transform=\"translate(177.412784 239.238437)scale(0.1 -0.1)\">\n       <defs>\n        <path d=\"M 2419 4116 \nL 825 1625 \nL 2419 1625 \nL 2419 4116 \nz\nM 2253 4666 \nL 3047 4666 \nL 3047 1625 \nL 3713 1625 \nL 3713 1100 \nL 3047 1100 \nL 3047 0 \nL 2419 0 \nL 2419 1100 \nL 313 1100 \nL 313 1709 \nL 2253 4666 \nz\n\" id=\"DejaVuSans-34\" transform=\"scale(0.015625)\"/>\n       </defs>\n       <use xlink:href=\"#DejaVuSans-34\"/>\n      </g>\n     </g>\n    </g>\n    <g id=\"xtick_4\">\n     <g id=\"line2d_4\">\n      <g>\n       <use style=\"stroke:#000000;stroke-width:0.8;\" x=\"248.230398\" xlink:href=\"#m64543a3415\" y=\"224.64\"/>\n      </g>\n     </g>\n     <g id=\"text_4\">\n      <!-- 6 -->\n      <g transform=\"translate(245.049148 239.238437)scale(0.1 -0.1)\">\n       <defs>\n        <path d=\"M 2113 2584 \nQ 1688 2584 1439 2293 \nQ 1191 2003 1191 1497 \nQ 1191 994 1439 701 \nQ 1688 409 2113 409 \nQ 2538 409 2786 701 \nQ 3034 994 3034 1497 \nQ 3034 2003 2786 2293 \nQ 2538 2584 2113 2584 \nz\nM 3366 4563 \nL 3366 3988 \nQ 3128 4100 2886 4159 \nQ 2644 4219 2406 4219 \nQ 1781 4219 1451 3797 \nQ 1122 3375 1075 2522 \nQ 1259 2794 1537 2939 \nQ 1816 3084 2150 3084 \nQ 2853 3084 3261 2657 \nQ 3669 2231 3669 1497 \nQ 3669 778 3244 343 \nQ 2819 -91 2113 -91 \nQ 1303 -91 875 529 \nQ 447 1150 447 2328 \nQ 447 3434 972 4092 \nQ 1497 4750 2381 4750 \nQ 2619 4750 2861 4703 \nQ 3103 4656 3366 4563 \nz\n\" id=\"DejaVuSans-36\" transform=\"scale(0.015625)\"/>\n       </defs>\n       <use xlink:href=\"#DejaVuSans-36\"/>\n      </g>\n     </g>\n    </g>\n    <g id=\"xtick_5\">\n     <g id=\"line2d_5\">\n      <g>\n       <use style=\"stroke:#000000;stroke-width:0.8;\" x=\"315.866761\" xlink:href=\"#m64543a3415\" y=\"224.64\"/>\n      </g>\n     </g>\n     <g id=\"text_5\">\n      <!-- 8 -->\n      <g transform=\"translate(312.685511 239.238437)scale(0.1 -0.1)\">\n       <defs>\n        <path d=\"M 2034 2216 \nQ 1584 2216 1326 1975 \nQ 1069 1734 1069 1313 \nQ 1069 891 1326 650 \nQ 1584 409 2034 409 \nQ 2484 409 2743 651 \nQ 3003 894 3003 1313 \nQ 3003 1734 2745 1975 \nQ 2488 2216 2034 2216 \nz\nM 1403 2484 \nQ 997 2584 770 2862 \nQ 544 3141 544 3541 \nQ 544 4100 942 4425 \nQ 1341 4750 2034 4750 \nQ 2731 4750 3128 4425 \nQ 3525 4100 3525 3541 \nQ 3525 3141 3298 2862 \nQ 3072 2584 2669 2484 \nQ 3125 2378 3379 2068 \nQ 3634 1759 3634 1313 \nQ 3634 634 3220 271 \nQ 2806 -91 2034 -91 \nQ 1263 -91 848 271 \nQ 434 634 434 1313 \nQ 434 1759 690 2068 \nQ 947 2378 1403 2484 \nz\nM 1172 3481 \nQ 1172 3119 1398 2916 \nQ 1625 2713 2034 2713 \nQ 2441 2713 2670 2916 \nQ 2900 3119 2900 3481 \nQ 2900 3844 2670 4047 \nQ 2441 4250 2034 4250 \nQ 1625 4250 1398 4047 \nQ 1172 3844 1172 3481 \nz\n\" id=\"DejaVuSans-38\" transform=\"scale(0.015625)\"/>\n       </defs>\n       <use xlink:href=\"#DejaVuSans-38\"/>\n      </g>\n     </g>\n    </g>\n   </g>\n   <g id=\"matplotlib.axis_2\">\n    <g id=\"ytick_1\">\n     <g id=\"line2d_6\">\n      <defs>\n       <path d=\"M 0 0 \nL -3.5 0 \n\" id=\"m6a36ed2146\" style=\"stroke:#000000;stroke-width:0.8;\"/>\n      </defs>\n      <g>\n       <use style=\"stroke:#000000;stroke-width:0.8;\" x=\"30.103125\" xlink:href=\"#m6a36ed2146\" y=\"214.756364\"/>\n      </g>\n     </g>\n     <g id=\"text_6\">\n      <!-- 5.0 -->\n      <g transform=\"translate(7.2 218.555582)scale(0.1 -0.1)\">\n       <defs>\n        <path d=\"M 691 4666 \nL 3169 4666 \nL 3169 4134 \nL 1269 4134 \nL 1269 2991 \nQ 1406 3038 1543 3061 \nQ 1681 3084 1819 3084 \nQ 2600 3084 3056 2656 \nQ 3513 2228 3513 1497 \nQ 3513 744 3044 326 \nQ 2575 -91 1722 -91 \nQ 1428 -91 1123 -41 \nQ 819 9 494 109 \nL 494 744 \nQ 775 591 1075 516 \nQ 1375 441 1709 441 \nQ 2250 441 2565 725 \nQ 2881 1009 2881 1497 \nQ 2881 1984 2565 2268 \nQ 2250 2553 1709 2553 \nQ 1456 2553 1204 2497 \nQ 953 2441 691 2322 \nL 691 4666 \nz\n\" id=\"DejaVuSans-35\" transform=\"scale(0.015625)\"/>\n        <path d=\"M 684 794 \nL 1344 794 \nL 1344 0 \nL 684 0 \nL 684 794 \nz\n\" id=\"DejaVuSans-2e\" transform=\"scale(0.015625)\"/>\n       </defs>\n       <use xlink:href=\"#DejaVuSans-35\"/>\n       <use x=\"63.623047\" xlink:href=\"#DejaVuSans-2e\"/>\n       <use x=\"95.410156\" xlink:href=\"#DejaVuSans-30\"/>\n      </g>\n     </g>\n    </g>\n    <g id=\"ytick_2\">\n     <g id=\"line2d_7\">\n      <g>\n       <use style=\"stroke:#000000;stroke-width:0.8;\" x=\"30.103125\" xlink:href=\"#m6a36ed2146\" y=\"190.047273\"/>\n      </g>\n     </g>\n     <g id=\"text_7\">\n      <!-- 5.5 -->\n      <g transform=\"translate(7.2 193.846491)scale(0.1 -0.1)\">\n       <use xlink:href=\"#DejaVuSans-35\"/>\n       <use x=\"63.623047\" xlink:href=\"#DejaVuSans-2e\"/>\n       <use x=\"95.410156\" xlink:href=\"#DejaVuSans-35\"/>\n      </g>\n     </g>\n    </g>\n    <g id=\"ytick_3\">\n     <g id=\"line2d_8\">\n      <g>\n       <use style=\"stroke:#000000;stroke-width:0.8;\" x=\"30.103125\" xlink:href=\"#m6a36ed2146\" y=\"165.338182\"/>\n      </g>\n     </g>\n     <g id=\"text_8\">\n      <!-- 6.0 -->\n      <g transform=\"translate(7.2 169.137401)scale(0.1 -0.1)\">\n       <use xlink:href=\"#DejaVuSans-36\"/>\n       <use x=\"63.623047\" xlink:href=\"#DejaVuSans-2e\"/>\n       <use x=\"95.410156\" xlink:href=\"#DejaVuSans-30\"/>\n      </g>\n     </g>\n    </g>\n    <g id=\"ytick_4\">\n     <g id=\"line2d_9\">\n      <g>\n       <use style=\"stroke:#000000;stroke-width:0.8;\" x=\"30.103125\" xlink:href=\"#m6a36ed2146\" y=\"140.629091\"/>\n      </g>\n     </g>\n     <g id=\"text_9\">\n      <!-- 6.5 -->\n      <g transform=\"translate(7.2 144.42831)scale(0.1 -0.1)\">\n       <use xlink:href=\"#DejaVuSans-36\"/>\n       <use x=\"63.623047\" xlink:href=\"#DejaVuSans-2e\"/>\n       <use x=\"95.410156\" xlink:href=\"#DejaVuSans-35\"/>\n      </g>\n     </g>\n    </g>\n    <g id=\"ytick_5\">\n     <g id=\"line2d_10\">\n      <g>\n       <use style=\"stroke:#000000;stroke-width:0.8;\" x=\"30.103125\" xlink:href=\"#m6a36ed2146\" y=\"115.92\"/>\n      </g>\n     </g>\n     <g id=\"text_10\">\n      <!-- 7.0 -->\n      <g transform=\"translate(7.2 119.719219)scale(0.1 -0.1)\">\n       <defs>\n        <path d=\"M 525 4666 \nL 3525 4666 \nL 3525 4397 \nL 1831 0 \nL 1172 0 \nL 2766 4134 \nL 525 4134 \nL 525 4666 \nz\n\" id=\"DejaVuSans-37\" transform=\"scale(0.015625)\"/>\n       </defs>\n       <use xlink:href=\"#DejaVuSans-37\"/>\n       <use x=\"63.623047\" xlink:href=\"#DejaVuSans-2e\"/>\n       <use x=\"95.410156\" xlink:href=\"#DejaVuSans-30\"/>\n      </g>\n     </g>\n    </g>\n    <g id=\"ytick_6\">\n     <g id=\"line2d_11\">\n      <g>\n       <use style=\"stroke:#000000;stroke-width:0.8;\" x=\"30.103125\" xlink:href=\"#m6a36ed2146\" y=\"91.210909\"/>\n      </g>\n     </g>\n     <g id=\"text_11\">\n      <!-- 7.5 -->\n      <g transform=\"translate(7.2 95.010128)scale(0.1 -0.1)\">\n       <use xlink:href=\"#DejaVuSans-37\"/>\n       <use x=\"63.623047\" xlink:href=\"#DejaVuSans-2e\"/>\n       <use x=\"95.410156\" xlink:href=\"#DejaVuSans-35\"/>\n      </g>\n     </g>\n    </g>\n    <g id=\"ytick_7\">\n     <g id=\"line2d_12\">\n      <g>\n       <use style=\"stroke:#000000;stroke-width:0.8;\" x=\"30.103125\" xlink:href=\"#m6a36ed2146\" y=\"66.501818\"/>\n      </g>\n     </g>\n     <g id=\"text_12\">\n      <!-- 8.0 -->\n      <g transform=\"translate(7.2 70.301037)scale(0.1 -0.1)\">\n       <use xlink:href=\"#DejaVuSans-38\"/>\n       <use x=\"63.623047\" xlink:href=\"#DejaVuSans-2e\"/>\n       <use x=\"95.410156\" xlink:href=\"#DejaVuSans-30\"/>\n      </g>\n     </g>\n    </g>\n    <g id=\"ytick_8\">\n     <g id=\"line2d_13\">\n      <g>\n       <use style=\"stroke:#000000;stroke-width:0.8;\" x=\"30.103125\" xlink:href=\"#m6a36ed2146\" y=\"41.792727\"/>\n      </g>\n     </g>\n     <g id=\"text_13\">\n      <!-- 8.5 -->\n      <g transform=\"translate(7.2 45.591946)scale(0.1 -0.1)\">\n       <use xlink:href=\"#DejaVuSans-38\"/>\n       <use x=\"63.623047\" xlink:href=\"#DejaVuSans-2e\"/>\n       <use x=\"95.410156\" xlink:href=\"#DejaVuSans-35\"/>\n      </g>\n     </g>\n    </g>\n    <g id=\"ytick_9\">\n     <g id=\"line2d_14\">\n      <g>\n       <use style=\"stroke:#000000;stroke-width:0.8;\" x=\"30.103125\" xlink:href=\"#m6a36ed2146\" y=\"17.083636\"/>\n      </g>\n     </g>\n     <g id=\"text_14\">\n      <!-- 9.0 -->\n      <g transform=\"translate(7.2 20.882855)scale(0.1 -0.1)\">\n       <defs>\n        <path d=\"M 703 97 \nL 703 672 \nQ 941 559 1184 500 \nQ 1428 441 1663 441 \nQ 2288 441 2617 861 \nQ 2947 1281 2994 2138 \nQ 2813 1869 2534 1725 \nQ 2256 1581 1919 1581 \nQ 1219 1581 811 2004 \nQ 403 2428 403 3163 \nQ 403 3881 828 4315 \nQ 1253 4750 1959 4750 \nQ 2769 4750 3195 4129 \nQ 3622 3509 3622 2328 \nQ 3622 1225 3098 567 \nQ 2575 -91 1691 -91 \nQ 1453 -91 1209 -44 \nQ 966 3 703 97 \nz\nM 1959 2075 \nQ 2384 2075 2632 2365 \nQ 2881 2656 2881 3163 \nQ 2881 3666 2632 3958 \nQ 2384 4250 1959 4250 \nQ 1534 4250 1286 3958 \nQ 1038 3666 1038 3163 \nQ 1038 2656 1286 2365 \nQ 1534 2075 1959 2075 \nz\n\" id=\"DejaVuSans-39\" transform=\"scale(0.015625)\"/>\n       </defs>\n       <use xlink:href=\"#DejaVuSans-39\"/>\n       <use x=\"63.623047\" xlink:href=\"#DejaVuSans-2e\"/>\n       <use x=\"95.410156\" xlink:href=\"#DejaVuSans-30\"/>\n      </g>\n     </g>\n    </g>\n   </g>\n   <g id=\"line2d_15\">\n    <path clip-path=\"url(#p9fab1963f1)\" d=\"M 45.321307 214.756364 \nL 45.321307 66.501818 \nL 79.139489 115.92 \nL 79.139489 66.501818 \nL 112.95767 66.501818 \nL 180.594034 66.501818 \nL 315.866761 214.756364 \nL 315.866761 17.083636 \nL 315.866761 66.501818 \nL 349.684943 66.501818 \n\" style=\"fill:none;stroke:#1f77b4;stroke-linecap:square;stroke-width:1.5;\"/>\n    <defs>\n     <path d=\"M -3 3 \nL 3 -3 \nM -3 -3 \nL 3 3 \n\" id=\"m8d58414f77\" style=\"stroke:#1f77b4;\"/>\n    </defs>\n    <g clip-path=\"url(#p9fab1963f1)\">\n     <use style=\"fill:#1f77b4;stroke:#1f77b4;\" x=\"45.321307\" xlink:href=\"#m8d58414f77\" y=\"214.756364\"/>\n     <use style=\"fill:#1f77b4;stroke:#1f77b4;\" x=\"45.321307\" xlink:href=\"#m8d58414f77\" y=\"66.501818\"/>\n     <use style=\"fill:#1f77b4;stroke:#1f77b4;\" x=\"79.139489\" xlink:href=\"#m8d58414f77\" y=\"115.92\"/>\n     <use style=\"fill:#1f77b4;stroke:#1f77b4;\" x=\"79.139489\" xlink:href=\"#m8d58414f77\" y=\"66.501818\"/>\n     <use style=\"fill:#1f77b4;stroke:#1f77b4;\" x=\"112.95767\" xlink:href=\"#m8d58414f77\" y=\"66.501818\"/>\n     <use style=\"fill:#1f77b4;stroke:#1f77b4;\" x=\"180.594034\" xlink:href=\"#m8d58414f77\" y=\"66.501818\"/>\n     <use style=\"fill:#1f77b4;stroke:#1f77b4;\" x=\"315.866761\" xlink:href=\"#m8d58414f77\" y=\"214.756364\"/>\n     <use style=\"fill:#1f77b4;stroke:#1f77b4;\" x=\"315.866761\" xlink:href=\"#m8d58414f77\" y=\"17.083636\"/>\n     <use style=\"fill:#1f77b4;stroke:#1f77b4;\" x=\"315.866761\" xlink:href=\"#m8d58414f77\" y=\"66.501818\"/>\n     <use style=\"fill:#1f77b4;stroke:#1f77b4;\" x=\"349.684943\" xlink:href=\"#m8d58414f77\" y=\"66.501818\"/>\n    </g>\n   </g>\n   <g id=\"line2d_16\">\n    <path clip-path=\"url(#p9fab1963f1)\" d=\"M 45.321307 214.756364 \nL 45.321307 66.501818 \nL 79.139489 115.92 \nL 79.139489 66.501818 \nL 112.95767 66.501818 \nL 180.594034 66.501818 \nL 315.866761 214.756364 \nL 315.866761 17.083636 \nL 315.866761 66.501818 \nL 349.684943 66.501818 \n\" style=\"fill:none;stroke:#ff0000;stroke-linecap:square;stroke-width:1.5;\"/>\n   </g>\n   <g id=\"patch_3\">\n    <path d=\"M 30.103125 224.64 \nL 30.103125 7.2 \n\" style=\"fill:none;stroke:#000000;stroke-linecap:square;stroke-linejoin:miter;stroke-width:0.8;\"/>\n   </g>\n   <g id=\"patch_4\">\n    <path d=\"M 364.903125 224.64 \nL 364.903125 7.2 \n\" style=\"fill:none;stroke:#000000;stroke-linecap:square;stroke-linejoin:miter;stroke-width:0.8;\"/>\n   </g>\n   <g id=\"patch_5\">\n    <path d=\"M 30.103125 224.64 \nL 364.903125 224.64 \n\" style=\"fill:none;stroke:#000000;stroke-linecap:square;stroke-linejoin:miter;stroke-width:0.8;\"/>\n   </g>\n   <g id=\"patch_6\">\n    <path d=\"M 30.103125 7.2 \nL 364.903125 7.2 \n\" style=\"fill:none;stroke:#000000;stroke-linecap:square;stroke-linejoin:miter;stroke-width:0.8;\"/>\n   </g>\n  </g>\n </g>\n <defs>\n  <clipPath id=\"p9fab1963f1\">\n   <rect height=\"217.44\" width=\"334.8\" x=\"30.103125\" y=\"7.2\"/>\n  </clipPath>\n </defs>\n</svg>\n",
                        "image/png": "[encoded data removed]"
                    },
                    "metadata": {
                        "needs_background": "light"
                    }
                }
            ],
            "source": [
                "from matplotlib import pyplot as plt\n",
                "import numpy as np\n",
                "\n",
                "x=np.random.randint(0,10,10)\n",
                "x.sort()\n",
                "y=np.random.randint(5,10,10)\n",
                "fig,ax=plt.subplots()\n",
                "axe=ax.plot(x,y,'x')\n",
                "# axe.set_marker('x')\n",
                "plt.show()"
            ]
        },
        {
            "cell_type": "code",
            "execution_count": null,
            "metadata": {},
            "outputs": [],
            "source": []
        }
    ],
    "metadata": {
        "orig_nbformat": 4,
        "language_info": {
            "name": "python",
            "version": "3.9.6"
        },
        "kernelspec": {
            "name": "python3",
            "display_name": "Python 3.9.6 64-bit ('venv': venv)"
        },
        "interpreter": {
            "hash": "67ef6772c86da8ef658879aa388a1de651c83b6815030446bc445c101b39a03e"
        }
    },
    "nbformat": 4,
    "nbformat_minor": 2
}