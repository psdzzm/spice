{
    "cells": [
        {
            "cell_type": "code",
            "execution_count": null,
            "source": [
                "import os\n",
                "print(os.getcwd())"
            ],
            "outputs": [],
            "metadata": {}
        },
        {
            "cell_type": "code",
            "execution_count": null,
            "source": [
                "x={'name1':'zhj','name2':'zyc'}\n",
                "print(x,type(x))"
            ],
            "outputs": [],
            "metadata": {}
        },
        {
            "cell_type": "code",
            "execution_count": null,
            "source": [
                "import pandas as pd\n",
                "s1=pd.DataFrame(columns=('','Left','Right'))\n",
                "s1.loc[0]=[1,2,3]\n",
                "print(s1)\n",
                "# print(s1.to_html)"
            ],
            "outputs": [],
            "metadata": {}
        },
        {
            "cell_type": "code",
            "execution_count": null,
            "metadata": {},
            "outputs": [],
            "source": [
                "import readline\n",
                "\n",
                "def rlinput(prompt, prefill=''):\n",
                "   readline.set_startup_hook(lambda: readline.insert_text(prefill))\n",
                "   try:\n",
                "      return input(prompt)  # or raw_input in Python 2\n",
                "   finally:\n",
                "      readline.set_startup_hook()\n",
                "\n",
                "rlinput('Please enter times:','100')"
            ]
        },
        {
            "source": [
                "django add picture\n",
                "```html\n",
                "{% load static %}\n",
                "  <img src=\"{% static \"DSC08572.jpg\" %}\" alt=\"zhj\" width=\"400\">\n",
                "  ```"
            ],
            "cell_type": "markdown",
            "metadata": {}
        },
        {
            "cell_type": "code",
            "execution_count": null,
            "metadata": {},
            "outputs": [],
            "source": [
                "import threading\n",
                "from time import sleep\n",
                "from datetime import datetime\n",
                "\n",
                "\n",
                "class C:\n",
                "    def __init__(self, name, c, tol=0.05):\n",
                "        self.name = name\n",
                "        self.c = c\n",
                "        self.tol = tol\n",
                "        self.capacitance = []\n",
                "\n",
                "    def createthread(self):\n",
                "        thread = threading.Thread(target = self.threaded_function, args = ())\n",
                "        thread.start()\n",
                "\n",
                "    def threaded_function(self):\n",
                "        for i in range(5):\n",
                "            print(\"running\"+self.name,i)\n",
                "            print(datetime.now().strftime(\"%d/%m/%Y, %H:%M:%S\"))\n",
                "            sleep(1)\n",
                "\n",
                "\n",
                "if __name__ == \"__main__\":\n",
                "    cap=C('c1',1.5,0.025)\n",
                "    \n",
                "    cap.createthread()\n",
                "    # cap.threaded_function()\n",
                "    sleep(4)\n",
                "    print(\"thread finished...exiting\")"
            ]
        },
        {
            "cell_type": "code",
            "execution_count": null,
            "metadata": {},
            "outputs": [],
            "source": [
                "def rm(*args):\n",
                "    print(type(args))\n",
                "    for item in args:\n",
                "        print(item,type(item))\n",
                "\n",
                "rm([1234,'432tew','fvfa.txt'])"
            ]
        },
        {
            "cell_type": "code",
            "execution_count": null,
            "metadata": {},
            "outputs": [],
            "source": [
                "def m(x,y=[]):\n",
                "    if y:\n",
                "        return y\n",
                "    else:\n",
                "        return x\n",
                "\n",
                "x,y,z=m(5,[2,3,4])\n",
                "print(x,y,z)\n",
                "a,b,c=[1,2,3]\n",
                "print(a,b,c)"
            ]
        },
        {
            "cell_type": "code",
            "execution_count": 57,
            "metadata": {},
            "outputs": [
                {
                    "output_type": "stream",
                    "name": "stdout",
                    "text": [
                        "Module: numpy can be imported\n"
                    ]
                },
                {
                    "output_type": "error",
                    "ename": "AttributeError",
                    "evalue": "module 'numpy' has no attribute 'r'",
                    "traceback": [
                        "\u001b[0;31m---------------------------------------------------------------------------\u001b[0m",
                        "\u001b[0;31mAttributeError\u001b[0m                            Traceback (most recent call last)",
                        "\u001b[0;32m/tmp/ipykernel_104242/1473590920.py\u001b[0m in \u001b[0;36m<module>\u001b[0;34m\u001b[0m\n\u001b[1;32m     35\u001b[0m \u001b[0;34m\u001b[0m\u001b[0m\n\u001b[1;32m     36\u001b[0m \u001b[0;31m# from numpy import random,linspace\u001b[0m\u001b[0;34m\u001b[0m\u001b[0;34m\u001b[0m\u001b[0;34m\u001b[0m\u001b[0m\n\u001b[0;32m---> 37\u001b[0;31m \u001b[0mrandom\u001b[0m\u001b[0;34m=\u001b[0m\u001b[0mimport_module\u001b[0m\u001b[0;34m(\u001b[0m\u001b[0mcheck_module\u001b[0m\u001b[0;34m(\u001b[0m\u001b[0;34m'numpy'\u001b[0m\u001b[0;34m)\u001b[0m\u001b[0;34m,\u001b[0m\u001b[0;34m'random'\u001b[0m\u001b[0;34m)\u001b[0m\u001b[0;34m\u001b[0m\u001b[0;34m\u001b[0m\u001b[0m\n\u001b[0m\u001b[1;32m     38\u001b[0m \u001b[0;31m# sci=import_module_from_spec(check_module('numpy.lib.scimath'))\u001b[0m\u001b[0;34m\u001b[0m\u001b[0;34m\u001b[0m\u001b[0;34m\u001b[0m\u001b[0m\n\u001b[1;32m     39\u001b[0m \u001b[0;31m# random,linspace,sqrt=import_module_from_spec(check_module('numpy'),['random','linspace','sqrt'])\u001b[0m\u001b[0;34m\u001b[0m\u001b[0;34m\u001b[0m\u001b[0;34m\u001b[0m\u001b[0m\n",
                        "\u001b[0;32m/tmp/ipykernel_104242/1473590920.py\u001b[0m in \u001b[0;36mimport_module\u001b[0;34m(module_name, name)\u001b[0m\n\u001b[1;32m     24\u001b[0m         \u001b[0mi\u001b[0m\u001b[0;34m=\u001b[0m\u001b[0;36m0\u001b[0m\u001b[0;34m\u001b[0m\u001b[0;34m\u001b[0m\u001b[0m\n\u001b[1;32m     25\u001b[0m         \u001b[0;32mfor\u001b[0m \u001b[0mitem\u001b[0m \u001b[0;32min\u001b[0m \u001b[0mname\u001b[0m\u001b[0;34m:\u001b[0m\u001b[0;34m\u001b[0m\u001b[0;34m\u001b[0m\u001b[0m\n\u001b[0;32m---> 26\u001b[0;31m             \u001b[0msub\u001b[0m\u001b[0;34m[\u001b[0m\u001b[0mi\u001b[0m\u001b[0;34m]\u001b[0m\u001b[0;34m=\u001b[0m\u001b[0mgetattr\u001b[0m\u001b[0;34m(\u001b[0m\u001b[0mmodule\u001b[0m\u001b[0;34m,\u001b[0m\u001b[0mitem\u001b[0m\u001b[0;34m)\u001b[0m\u001b[0;34m\u001b[0m\u001b[0;34m\u001b[0m\u001b[0m\n\u001b[0m\u001b[1;32m     27\u001b[0m             \u001b[0mprint\u001b[0m\u001b[0;34m(\u001b[0m\u001b[0;34m'Import '\u001b[0m\u001b[0;34m+\u001b[0m\u001b[0mmodule_name\u001b[0m\u001b[0;34m+\u001b[0m\u001b[0;34m'.'\u001b[0m\u001b[0;34m+\u001b[0m\u001b[0mitem\u001b[0m\u001b[0;34m)\u001b[0m\u001b[0;34m\u001b[0m\u001b[0;34m\u001b[0m\u001b[0m\n\u001b[1;32m     28\u001b[0m             \u001b[0mi\u001b[0m\u001b[0;34m+=\u001b[0m\u001b[0;36m1\u001b[0m\u001b[0;34m\u001b[0m\u001b[0;34m\u001b[0m\u001b[0m\n",
                        "\u001b[0;32m~/.local/lib/python3.9/site-packages/numpy/__init__.py\u001b[0m in \u001b[0;36m__getattr__\u001b[0;34m(attr)\u001b[0m\n\u001b[1;32m    311\u001b[0m                 \u001b[0;32mreturn\u001b[0m \u001b[0mTester\u001b[0m\u001b[0;34m\u001b[0m\u001b[0;34m\u001b[0m\u001b[0m\n\u001b[1;32m    312\u001b[0m \u001b[0;34m\u001b[0m\u001b[0m\n\u001b[0;32m--> 313\u001b[0;31m             raise AttributeError(\"module {!r} has no attribute \"\n\u001b[0m\u001b[1;32m    314\u001b[0m                                  \"{!r}\".format(__name__, attr))\n\u001b[1;32m    315\u001b[0m \u001b[0;34m\u001b[0m\u001b[0m\n",
                        "\u001b[0;31mAttributeError\u001b[0m: module 'numpy' has no attribute 'r'"
                    ]
                }
            ],
            "source": [
                "import importlib\n",
                "\n",
                "def check_module(module_name):\n",
                "    \"\"\"\n",
                "    Checks if module can be imported without actually\n",
                "    importing it\n",
                "    \"\"\"\n",
                "    module_spec = importlib.util.find_spec(module_name)\n",
                "    if module_spec is None:\n",
                "        print(\"Module: {} does not exist\".format(module_name))\n",
                "    else:\n",
                "        print(\"Module: {} can be imported\".format(module_name))\n",
                "        return module_name\n",
                "\n",
                "\n",
                "def import_module(module_name,name=[]):\n",
                "    \"\"\"\n",
                "    Import the module via the passed in module specification\n",
                "    Returns the newly imported module\n",
                "    \"\"\"\n",
                "    module = importlib.import_module(module_name)\n",
                "    if name:\n",
                "        sub=[None]*len(name)\n",
                "        i=0\n",
                "        for item in name:\n",
                "            sub[i]=getattr(module,item)\n",
                "            print('Import '+module_name+'.'+item)\n",
                "            i+=1\n",
                "        if i==1:\n",
                "            return sub[0]\n",
                "        else:\n",
                "            return sub\n",
                "    else:\n",
                "        return module\n",
                "\n",
                "# from numpy import random,linspace\n",
                "random=import_module(check_module('numpy'),['random'])\n",
                "# sci=import_module_from_spec(check_module('numpy.lib.scimath'))\n",
                "# random,linspace,sqrt=import_module_from_spec(check_module('numpy'),['random','linspace','sqrt'])\n",
                "\n",
                "print(random.rand(5))\n",
                "# print(linspace(1,5,4))"
            ]
        },
        {
            "cell_type": "code",
            "execution_count": null,
            "metadata": {},
            "outputs": [],
            "source": [
                "from numpy.lib.scimath import sqrt\n",
                "print(sqrt(5))"
            ]
        },
        {
            "cell_type": "code",
            "execution_count": null,
            "metadata": {},
            "outputs": [],
            "source": []
        }
    ],
    "metadata": {
        "orig_nbformat": 4,
        "language_info": {
            "name": "python",
            "version": "3.9.6"
        },
        "kernelspec": {
            "name": "python3",
            "display_name": "Python 3.9.6 64-bit ('venv': venv)"
        },
        "interpreter": {
            "hash": "67ef6772c86da8ef658879aa388a1de651c83b6815030446bc445c101b39a03e"
        }
    },
    "nbformat": 4,
    "nbformat_minor": 2
}