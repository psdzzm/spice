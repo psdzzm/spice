{
    "cells": [
        {
            "cell_type": "code",
            "execution_count": 2,
            "source": [
                "import os\n",
                "print(os.getcwd())"
            ],
            "outputs": [
                {
                    "output_type": "stream",
                    "name": "stdout",
                    "text": [
                        "/home/zyc/Desktop/projects/spice/src\n"
                    ]
                }
            ],
            "metadata": {}
        },
        {
            "cell_type": "code",
            "execution_count": 7,
            "source": [
                "x={'name1':'zhj','name2':'zyc'}\n",
                "print(x,type(x))"
            ],
            "outputs": [
                {
                    "output_type": "stream",
                    "name": "stdout",
                    "text": [
                        "{'name1': 'zhj', 'name2': 'zyc'} <class 'dict'>\n"
                    ]
                }
            ],
            "metadata": {}
        },
        {
            "cell_type": "code",
            "execution_count": 22,
            "source": [
                "import pandas as pd\n",
                "s1=pd.DataFrame(columns=('Name','Value/Ω','Tolerance'))\n",
                "s1.loc[0]=['C1','1e-9',0.05]\n",
                "print(s1)\n",
                "print(os.path.abspath(os.path.join(os.getcwd(),'..','report')))"
            ],
            "outputs": [
                {
                    "output_type": "stream",
                    "name": "stdout",
                    "text": [
                        "  Name Value/Ω  Tolerance\n",
                        "0   C1    1e-9       0.05\n",
                        "/home/zyc/Desktop/projects/spice/report\n"
                    ]
                }
            ],
            "metadata": {}
        }
    ],
    "metadata": {
        "orig_nbformat": 4,
        "language_info": {
            "name": "python"
        }
    },
    "nbformat": 4,
    "nbformat_minor": 2
}