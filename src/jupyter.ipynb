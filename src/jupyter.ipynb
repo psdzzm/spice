{
    "cells": [
        {
            "cell_type": "code",
            "execution_count": 12,
            "source": [
                "try:\n",
                "    1==2\n",
                "except:\n",
                "    pass\n",
                "finally:\n",
                "    print('enter')"
            ],
            "outputs": [
                {
                    "output_type": "stream",
                    "name": "stdout",
                    "text": [
                        "enter\n"
                    ]
                }
            ],
            "metadata": {}
        },
        {
            "cell_type": "code",
            "execution_count": 11,
            "source": [
                "class C:\n",
                "    def __init__(self, name, c, tol=0.05):\n",
                "        self.name = name\n",
                "        self.c = c\n",
                "        self.tol = tol\n",
                "        self.capacitance = []\n",
                "\n",
                "    def copy(self):\n",
                "        self.r2=self.r\n",
                "        self.r2.r=50\n",
                "        print(self.r2.r,self.r.r)\n",
                "\n",
                "    def create(self):\n",
                "        self.r=R('r1',100)\n",
                "\n",
                "class R:\n",
                "    def __init__(self, name, r, tol=0.01):\n",
                "        self.name = name\n",
                "        self.r = r\n",
                "        self.tol = tol\n",
                "        self.resistance = []\n",
                "\n",
                "\n",
                "res=R('r2',43)\n",
                "print(res)\n",
                "cap=C(res,0.01)\n",
                "cap.create()\n",
                "cap.copy()\n",
                "print('name:',cap.name.name)\n",
                "res=R('r3',43)\n",
                "print(res)\n",
                "print('name:',cap.name.name)"
            ],
            "outputs": [
                {
                    "output_type": "stream",
                    "name": "stdout",
                    "text": [
                        "<__main__.R object at 0x7f26fba759d0>\n50 50\nname: r2\n<__main__.R object at 0x7f26fb7bd0a0>\nname: r2\n"
                    ]
                }
            ],
            "metadata": {}
        },
        {
            "cell_type": "code",
            "execution_count": null,
            "source": [
                "class Rectangle(object):\n",
                "  @property\n",
                "  def width(self):\n",
                "    # 变量名不与方法名重复，改为true_width，下同\n",
                "    return self.true_width\n",
                "  @width.setter\n",
                "  def width(self, input_width):\n",
                "    self.true_width = input_width\n",
                "  @property\n",
                "  def height(self):\n",
                "    return self.true_height\n",
                "  @height.setter\n",
                "  #与property定义的方法名要一致\n",
                "  def height(self, input_height):\n",
                "    self.true_height = input_height\n",
                "s = Rectangle()\n",
                "# 与方法名一致\n",
                "s.width = 1024\n",
                "s.height = 768\n",
                "print(s.width,s.height)\n",
                "s.width = 720\n",
                "s.height = 480\n",
                "print(s.width,s.height)"
            ],
            "outputs": [],
            "metadata": {}
        },
        {
            "cell_type": "code",
            "execution_count": null,
            "metadata": {},
            "outputs": [],
            "source": [
                "import readline\n",
                "\n",
                "def rlinput(prompt, prefill=''):\n",
                "   readline.set_startup_hook(lambda: readline.insert_text(prefill))\n",
                "   try:\n",
                "      return input(prompt)  # or raw_input in Python 2\n",
                "   finally:\n",
                "      readline.set_startup_hook()\n",
                "\n",
                "rlinput('Please enter times:','100')"
            ]
        },
        {
            "source": [
                "django add picture\n",
                "```html\n",
                "{% load static %}\n",
                "  <img src=\"{% static \"DSC08572.jpg\" %}\" alt=\"zhj\" width=\"400\">\n",
                "  ```"
            ],
            "cell_type": "markdown",
            "metadata": {}
        },
        {
            "cell_type": "code",
            "execution_count": null,
            "metadata": {},
            "outputs": [],
            "source": [
                "import threading\n",
                "from time import sleep\n",
                "from datetime import datetime\n",
                "\n",
                "\n",
                "class C:\n",
                "    def __init__(self, name, c, tol=0.05):\n",
                "        self.name = name\n",
                "        self.c = c\n",
                "        self.tol = tol\n",
                "        self.capacitance = []\n",
                "\n",
                "    def createthread(self):\n",
                "        thread = threading.Thread(target = self.threaded_function, args = ())\n",
                "        thread.start()\n",
                "\n",
                "    def threaded_function(self):\n",
                "        for i in range(5):\n",
                "            print(\"running\"+self.name,i)\n",
                "            print(datetime.now().strftime(\"%d/%m/%Y, %H:%M:%S\"))\n",
                "            sleep(1)\n",
                "\n",
                "\n",
                "if __name__ == \"__main__\":\n",
                "    cap=C('c1',1.5,0.025)\n",
                "    \n",
                "    cap.createthread()\n",
                "    # cap.threaded_function()\n",
                "    sleep(4)\n",
                "    print(\"thread finished...exiting\")"
            ]
        },
        {
            "cell_type": "code",
            "execution_count": 4,
            "metadata": {},
            "outputs": [
                {
                    "output_type": "stream",
                    "name": "stdout",
                    "text": [
                        "1.5 nΩ 1.5e-09\n"
                    ]
                }
            ],
            "source": [
                "from quantiphy import Quantity,UnitConversion\n",
                "\n",
                "# start=input('Please enter the start frequency: ')\n",
                "# while True:\n",
                "#     try:\n",
                "#         f=Quantity(start,units='Hz')\n",
                "#     except:\n",
                "#         start=input('Error! Please enter a valid frequency: ')\n",
                "#     else:\n",
                "#         print(f,f.real,f.format('Q'))\n",
                "#         print(f.render())\n",
                "#         break\n",
                "\n",
                "x='1.5n'\n",
                "f=Quantity(x,units='Ω')\n",
                "print(f,Quantity(x,units='Ω').real)"
            ]
        },
        {
            "cell_type": "code",
            "execution_count": 2,
            "metadata": {},
            "outputs": [
                {
                    "output_type": "stream",
                    "name": "stdout",
                    "text": [
                        "memory use: 61.7734375\nmemory use: 99.7578125\nmemory use: 61.8359375\nmemory use: 61.8359375\n"
                    ]
                }
            ],
            "source": [
                "import os\n",
                "import psutil\n",
                "import numpy as np\n",
                "\n",
                "\n",
                "python_process = psutil.Process(os.getpid())\n",
                "memoryUse = python_process.memory_info()[0]/2.**20  # memory use in GB...I think\n",
                "print('memory use:', memoryUse)\n",
                "\n",
                "x = np.random.rand(5000000)\n",
                "\n",
                "memoryUse = python_process.memory_info()[0]/2.**20\n",
                "print('memory use:', memoryUse)\n",
                "\n",
                "del x\n",
                "\n",
                "memoryUse = python_process.memory_info()[0]/2.**20\n",
                "print('memory use:', memoryUse)\n",
                "\n",
                "del memoryUse\n",
                "\n",
                "print('memory use:', python_process.memory_info()[0]/2.**20)"
            ]
        },
        {
            "cell_type": "code",
            "execution_count": 3,
            "metadata": {},
            "outputs": [
                {
                    "output_type": "stream",
                    "name": "stdout",
                    "text": [
                        "Module: weasyprint can be imported\nImport weasyprint.HTML\n0.0002213870002378826 <class 'weasyprint.HTML'>\nexist\n"
                    ]
                }
            ],
            "source": [
                "import importlib\n",
                "from timeit import default_timer as timer\n",
                "\n",
                "def check_module(module_name):\n",
                "    \"\"\"\n",
                "    Checks if module can be imported without actually\n",
                "    importing it\n",
                "    \"\"\"\n",
                "    module_spec = importlib.util.find_spec(module_name)\n",
                "    if module_spec is None:\n",
                "        print(\"Module: {} does not exist\".format(module_name))\n",
                "    else:\n",
                "        print(\"Module: {} can be imported\".format(module_name))\n",
                "        return module_name\n",
                "\n",
                "\n",
                "def import_module(module_name,name=None):\n",
                "    \"\"\"\n",
                "    Import the module via the passed in module specification\n",
                "    Returns the newly imported module\n",
                "    \"\"\"\n",
                "    if module_name==None:\n",
                "        return\n",
                "    else:\n",
                "        module = importlib.import_module(module_name)\n",
                "    \n",
                "    if name==None:\n",
                "        return module\n",
                "    elif isinstance(name,str):\n",
                "        print('Import '+module_name+'.'+name)\n",
                "        return getattr(module,name)\n",
                "    elif isinstance(name,list):\n",
                "        length=len(name)\n",
                "        if length==1:\n",
                "            print('Import '+module_name+'.'+name[0])\n",
                "            return getattr(module,name[0])\n",
                "        elif length>1:\n",
                "            sub=[None]*length\n",
                "            for item,i in zip(name,range(length)):\n",
                "                sub[i]=getattr(module,item)\n",
                "                print('Import '+module_name+'.'+item)\n",
                "            return sub\n",
                "        else:\n",
                "            raise BaseException(\"Empty list\")\n",
                "    else:\n",
                "        raise TypeError(\"Unsupported type {} of \"+name)\n",
                "\n",
                "\n",
                "HTML=import_module(check_module('weasyprint'),'HTML')\n",
                "# sci=import_module_from_spec(check_module('numpy.lib.scimath'))\n",
                "# random,linspace,sqrt=import_module_from_spec(check_module('numpy'),['random','linspace','sqrt'])\n",
                "\n",
                "# print(np.random.rand(5))\n",
                "# print(linspace(1,5,4))"
            ]
        },
        {
            "cell_type": "code",
            "execution_count": 13,
            "metadata": {},
            "outputs": [
                {
                    "output_type": "stream",
                    "name": "stdout",
                    "text": [
                        "('John', 'Jenny')\n('Charles', 'Christy')\n('Mike', 'Monica')\n"
                    ]
                }
            ],
            "source": [
                "a = (\"John\", \"Charles\", \"Mike\")\n",
                "b = (\"Jenny\", \"Christy\", \"Monica\",'afsv')\n",
                "\n",
                "x=zip(a, b)\n",
                "for item in x:\n",
                "    print(item)"
            ]
        },
        {
            "cell_type": "code",
            "execution_count": 19,
            "metadata": {},
            "outputs": [
                {
                    "output_type": "execute_result",
                    "data": {
                        "text/plain": [
                            "(1000000000.0, 1)"
                        ]
                    },
                    "metadata": {},
                    "execution_count": 19
                }
            ],
            "source": [
                "def setunit(value, base, level):\n",
                "    for i in range(level):\n",
                "        if value < 10**(base + 3 * i+3):\n",
                "            return value / 10**(base + 3 * i), i\n",
                "\n",
                "    return value/10**(base+3*i), i\n",
                "\n",
                "setunit(1e6,-6,2)"
            ]
        },
        {
            "cell_type": "code",
            "execution_count": null,
            "metadata": {},
            "outputs": [],
            "source": []
        }
    ],
    "metadata": {
        "orig_nbformat": 4,
        "language_info": {
            "name": "python",
            "version": "3.9.6"
        },
        "kernelspec": {
            "name": "python3",
            "display_name": "Python 3.9.6 64-bit ('venv': venv)"
        },
        "interpreter": {
            "hash": "67ef6772c86da8ef658879aa388a1de651c83b6815030446bc445c101b39a03e"
        }
    },
    "nbformat": 4,
    "nbformat_minor": 2
}