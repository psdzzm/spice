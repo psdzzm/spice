{
    "cells": [
        {
            "cell_type": "code",
            "execution_count": null,
            "source": [
                "import os\n",
                "print(os.getcwd())"
            ],
            "outputs": [],
            "metadata": {}
        },
        {
            "cell_type": "code",
            "execution_count": null,
            "source": [
                "x={'name1':'zhj','name2':'zyc'}\n",
                "print(x,type(x))"
            ],
            "outputs": [],
            "metadata": {}
        },
        {
            "cell_type": "code",
            "execution_count": null,
            "source": [
                "import pandas as pd\n",
                "s1=pd.DataFrame(columns=('','Left','Right'))\n",
                "s1.loc[0]=[1,2,3]\n",
                "print(s1)\n",
                "# print(s1.to_html)"
            ],
            "outputs": [],
            "metadata": {}
        },
        {
            "cell_type": "code",
            "execution_count": 41,
            "metadata": {},
            "outputs": [
                {
                    "output_type": "stream",
                    "name": "stdout",
                    "text": [
                        "[1.   0.99 1.01 1.02 1.02 0.96 5.  ]\n"
                    ]
                }
            ],
            "source": [
                "import numpy as np\n",
                "x=np.array([1,0.99,1.01,1.02,1.02,0.96])\n",
                "x=np.append(x,5)\n",
                "print(x)\n",
                "# print(x,np.mean(x),np.amax(x)-np.mean(x),np.mean(x)-np.amin(x),max(np.amax(x)-np.mean(x),np.mean(x)-np.amin(x))/np.mean(x))"
            ]
        },
        {
            "source": [
                "django add picture\n",
                "```html\n",
                "{% load static %}\n",
                "  <img src=\"{% static \"DSC08572.jpg\" %}\" alt=\"zhj\" width=\"400\">\n",
                "  ```"
            ],
            "cell_type": "markdown",
            "metadata": {}
        }
    ],
    "metadata": {
        "orig_nbformat": 4,
        "language_info": {
            "name": "python",
            "version": "3.8.10"
        },
        "kernelspec": {
            "name": "python3",
            "display_name": "Python 3.8.10 64-bit ('base': conda)"
        },
        "interpreter": {
            "hash": "fc5b00bee59e553d508db9922ccda4ed2426092ffdded382ff87e02c7f5799df"
        }
    },
    "nbformat": 4,
    "nbformat_minor": 2
}